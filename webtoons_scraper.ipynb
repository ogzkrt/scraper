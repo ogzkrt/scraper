{
 "cells": [
  {
   "cell_type": "code",
   "execution_count": 1,
   "id": "7c9517ac",
   "metadata": {},
   "outputs": [
    {
     "name": "stderr",
     "output_type": "stream",
     "text": [
      "/usr/lib/python3/dist-packages/requests/__init__.py:89: RequestsDependencyWarning: urllib3 (1.26.9) or chardet (3.0.4) doesn't match a supported version!\n",
      "  warnings.warn(\"urllib3 ({}) or chardet ({}) doesn't match a supported \"\n"
     ]
    }
   ],
   "source": [
    "import bs4\n",
    "from typing import List\n",
    "import requests\n",
    "import os\n",
    "import tqdm"
   ]
  },
  {
   "cell_type": "code",
   "execution_count": 2,
   "id": "36d3fd3c",
   "metadata": {},
   "outputs": [],
   "source": [
    "def get_image_urls(url:str)->List[str]:\n",
    "    \"\"\"\n",
    "    Scrapes all the image urls belongs to the given episode\n",
    "    and returns them as a list.\n",
    "\n",
    "    \"\"\"\n",
    "    resp = requests.get(url)\n",
    "    soup = bs4.BeautifulSoup(resp.content,'html.parser')\n",
    "    \n",
    "    content = soup.find('div',{'id':'_imageList'})\n",
    "    images = content.find_all('img')\n",
    "    result = []\n",
    "    for i in images:\n",
    "        result.append(i.attrs['data-url'])\n",
    "    return result"
   ]
  },
  {
   "cell_type": "code",
   "execution_count": 3,
   "id": "77cc9bd3",
   "metadata": {},
   "outputs": [],
   "source": [
    "def download_images(image_list,path)->None:\n",
    "    \"\"\"\n",
    "    Downloads all the images to the given path.\n",
    "    \n",
    "    Parameters:\n",
    "    -----------\n",
    "    image_list : List of image url\n",
    "    path: Path to the folder, to download images.\n",
    "    \"\"\"\n",
    "    for index,image in enumerate(image_list):\n",
    "        \n",
    "        resp = requests.get(image,headers={'referer':'https://www.webtoons.com'})\n",
    "        \n",
    "        with open(os.path.join(path,f'{str(index)}',),'wb') as img:\n",
    "            img.write(resp.content)"
   ]
  },
  {
   "cell_type": "code",
   "execution_count": 4,
   "id": "8a036bea",
   "metadata": {},
   "outputs": [],
   "source": [
    "def get_daily_urls(day='MONDAY'):\n",
    "    \"\"\"\n",
    "    Scrapes the mangas URL from the main page from \n",
    "    https://www.webtoons.com/en/dailySchedule\n",
    "    \n",
    "    Parameters:\n",
    "    -----------\n",
    "    day: A day desired to be scraped.\n",
    "    \"\"\"\n",
    "    result = []\n",
    "    resp = requests.get('https://www.webtoons.com/en/dailySchedule')\n",
    "    soup = bs4.BeautifulSoup(resp.content,'html.parser')\n",
    "    r = soup.find('div',{'class',f'_list_{day}'})\n",
    "    items = r.find_all('li')\n",
    "    for i in items:\n",
    "        title = i.find('p',{'class','subj'}).text\n",
    "        episode_url = i.a['href']\n",
    "        result.append(episode_url)\n",
    "    return result"
   ]
  },
  {
   "cell_type": "code",
   "execution_count": 5,
   "id": "082055de",
   "metadata": {},
   "outputs": [],
   "source": [
    "def download_episode_return_next(url:str,parent_folder)-> None:\n",
    "    \"\"\"\n",
    "    Download a manga episode from a given URL and returns the\n",
    "    next episode URL if it exist.\n",
    "    \n",
    "    Parameters:\n",
    "    -----------\n",
    "    url: Manga URL to download\n",
    "    parent_folder: Path for the download folder.\n",
    "    \"\"\"\n",
    "    print(f'Downloading.. {url}')\n",
    "    \n",
    "    resp = requests.get(url)\n",
    "    soup = bs4.BeautifulSoup(resp.content,'html.parser')\n",
    "    episode_name = soup.find('h1',{'class':'subj_episode'}).text.strip()\n",
    "    \n",
    "    path = os.path.join(parent_folder,episode_name)\n",
    "    \n",
    "    images = get_image_urls(url)\n",
    "    os.mkdir(path)\n",
    "    \n",
    "    download_images(images,path)\n",
    "    \n",
    "    next_episode = soup.find('a',{'class':'pg_next'})['href']\n",
    "    \n",
    "    return next_episode\n",
    "    \n",
    "    \n",
    "    "
   ]
  },
  {
   "cell_type": "code",
   "execution_count": 6,
   "id": "e1c5b8c1",
   "metadata": {},
   "outputs": [],
   "source": [
    "def download_all_episodes(url:str)->None:\n",
    "    \"\"\"\n",
    "    Starts downloading the all episode of manga\n",
    "    starting from the given Manga URL.\n",
    "    \n",
    "    Parameters:\n",
    "    -----------\n",
    "    url: Manga episode URL\n",
    "    \"\"\"\n",
    "    resp = requests.get(url)\n",
    "    soup = bs4.BeautifulSoup(resp.content,'html.parser')\n",
    "    manga_title = soup.find('div',{'class':'subj_info'}).a.attrs['title']\n",
    "    \n",
    "    os.mkdir(manga_title)\n",
    "    next_episode = download_episode_return_next(url,manga_title)\n",
    "    while next_episode:\n",
    "        next_episode = download_episode_return_next(next_episode,manga_title)\n",
    "        \n",
    "    "
   ]
  },
  {
   "cell_type": "code",
   "execution_count": 7,
   "id": "f344f89c",
   "metadata": {},
   "outputs": [],
   "source": [
    "def get_first_episode_url(url:str)->str:\n",
    "    \"\"\"\n",
    "    From the manga description page finds the \n",
    "    first episode URL and returns it.\n",
    "    \n",
    "    Parameters:\n",
    "    -----------\n",
    "    url: Manga description page URL\n",
    "    \n",
    "    \"\"\"\n",
    "    resp = requests.get(url)\n",
    "    soup = bs4.BeautifulSoup(resp.content,'html.parser')\n",
    "    result = soup.find('a',{'id':'_btnEpisode'})['href']\n",
    "    return result"
   ]
  },
  {
   "cell_type": "code",
   "execution_count": 8,
   "id": "3729766e",
   "metadata": {},
   "outputs": [],
   "source": [
    "monday = get_daily_urls('MONDAY')\n",
    "tuesday = get_daily_urls('TUESDAY')\n",
    "wednesday = get_daily_urls('WEDNESDAY')\n",
    "thursday = get_daily_urls('THURSDAY')\n",
    "friday = get_daily_urls('FRIDAY')\n",
    "saturday = get_daily_urls('SATURDAY')\n",
    "sunday = get_daily_urls('SUNDAY')"
   ]
  },
  {
   "cell_type": "code",
   "execution_count": 11,
   "id": "96f78aa8",
   "metadata": {},
   "outputs": [
    {
     "data": {
      "text/plain": [
       "'https://www.webtoons.com/en/fantasy/morgana-and-oz/episode-1/viewer?title_no=2964&episode_no=1'"
      ]
     },
     "execution_count": 11,
     "metadata": {},
     "output_type": "execute_result"
    }
   ],
   "source": [
    "manga_url = get_first_episode_url(monday[1])\n",
    "manga_url"
   ]
  },
  {
   "cell_type": "code",
   "execution_count": null,
   "id": "ef7826c0",
   "metadata": {},
   "outputs": [
    {
     "name": "stdout",
     "output_type": "stream",
     "text": [
      "Downloading.. https://www.webtoons.com/en/fantasy/morgana-and-oz/episode-1/viewer?title_no=2964&episode_no=1\n",
      "Downloading.. https://www.webtoons.com/en/fantasy/morgana-and-oz/episode-2/viewer?title_no=2964&episode_no=2\n",
      "Downloading.. https://www.webtoons.com/en/fantasy/morgana-and-oz/episode-3/viewer?title_no=2964&episode_no=3\n"
     ]
    }
   ],
   "source": [
    "download_all_episodes(manga_url)"
   ]
  },
  {
   "cell_type": "code",
   "execution_count": null,
   "id": "fa0e017b",
   "metadata": {},
   "outputs": [],
   "source": []
  }
 ],
 "metadata": {
  "kernelspec": {
   "display_name": "Python 3 (ipykernel)",
   "language": "python",
   "name": "python3"
  },
  "language_info": {
   "codemirror_mode": {
    "name": "ipython",
    "version": 3
   },
   "file_extension": ".py",
   "mimetype": "text/x-python",
   "name": "python",
   "nbconvert_exporter": "python",
   "pygments_lexer": "ipython3",
   "version": "3.8.10"
  }
 },
 "nbformat": 4,
 "nbformat_minor": 5
}
